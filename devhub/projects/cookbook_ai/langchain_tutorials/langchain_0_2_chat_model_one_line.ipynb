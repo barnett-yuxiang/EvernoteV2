{
  "nbformat": 4,
  "nbformat_minor": 0,
  "metadata": {
    "colab": {
      "provenance": [],
      "authorship_tag": "ABX9TyNge/njaAUp/1PCvWNG4RDL",
      "include_colab_link": true
    },
    "kernelspec": {
      "name": "python3",
      "display_name": "Python 3"
    },
    "language_info": {
      "name": "python"
    }
  },
  "cells": [
    {
      "cell_type": "markdown",
      "metadata": {
        "id": "view-in-github",
        "colab_type": "text"
      },
      "source": [
        "<a href=\"https://colab.research.google.com/github/sugarforever/LangChain-Tutorials/blob/main/langchain_0_2_chat_model_one_line.ipynb\" target=\"_parent\"><img src=\"https://colab.research.google.com/assets/colab-badge.svg\" alt=\"Open In Colab\"/></a>"
      ]
    },
    {
      "cell_type": "markdown",
      "source": [
        "# New Feature in LangChain 0.2\n",
        "\n",
        "LLM applications may let end users specify what model provider and model they want the application to be powered by. This requires writing some logic to initialize different ChatModels based on some user configuration. The `init_chat_model()` helper method makes it easy to initialize a number of different model integrations without having to worry about import paths and class names."
      ],
      "metadata": {
        "id": "BwOBI4xYaetT"
      }
    },
    {
      "cell_type": "code",
      "execution_count": null,
      "metadata": {
        "id": "zt8cVDAMSVVU"
      },
      "outputs": [],
      "source": [
        "!pip install -qU langchain>=0.2.8 langchain-openai langchain-groq"
      ]
    },
    {
      "cell_type": "code",
      "source": [
        "from google.colab import userdata\n",
        "import os\n",
        "\n",
        "os.environ[\"OPENAI_API_KEY\"] = userdata.get(\"OPENAI_API_KEY\")\n",
        "os.environ[\"GROQ_API_KEY\"] = userdata.get(\"GROQ_API_KEY\")"
      ],
      "metadata": {
        "id": "VucuOXI8S0vP"
      },
      "execution_count": null,
      "outputs": []
    },
    {
      "cell_type": "markdown",
      "source": [
        "# 1. Old Way"
      ],
      "metadata": {
        "id": "Po_dipgoXwOH"
      }
    },
    {
      "cell_type": "code",
      "source": [
        "from langchain_openai import ChatOpenAI\n",
        "from langchain_groq import ChatGroq\n",
        "\n",
        "groq_model = ChatGroq(temperature=0, model=\"llama3-70b-8192\")\n",
        "openai_model = ChatOpenAI(model=\"gpt-4o\", temperature=0)"
      ],
      "metadata": {
        "id": "9-l1eZNMXzU7"
      },
      "execution_count": 26,
      "outputs": []
    },
    {
      "cell_type": "code",
      "source": [
        "groq_model.invoke(\"Who is Trump?\")"
      ],
      "metadata": {
        "colab": {
          "base_uri": "https://localhost:8080/"
        },
        "id": "HEWAkuICYu-L",
        "outputId": "8da12773-ce65-421e-dc76-91a1e1515956"
      },
      "execution_count": 27,
      "outputs": [
        {
          "output_type": "execute_result",
          "data": {
            "text/plain": [
              "AIMessage(content='Donald John Trump is an American politician, businessman, and television personality who served as the 45th President of the United States from 2017 to 2021. He is a member of the Republican Party.\\n\\nEarly Life and Career:\\nTrump was born on June 14, 1946, in Queens, New York, to Mary Anne MacLeod and Frederick Christ Trump. He was the fourth of five children. Trump\\'s father was a successful real estate developer, and Trump joined the family business, the Trump Organization, in the early 1970s.\\n\\nTrump\\'s business career was marked by several high-profile successes and failures. He developed several luxury properties, including the Trump Tower in New York City, and expanded the Trump Organization into other industries, such as casinos, golf courses, and entertainment. He also founded Trump Entertainment Resorts, which operated several casinos, including the Trump Taj Mahal in Atlantic City.\\n\\nIn the 2000s, Trump became a reality TV star, hosting the NBC show \"The Apprentice\" and its spin-off, \"The Celebrity Apprentice.\" The show was a huge success, running for 14 seasons and making Trump a household name.\\n\\nPolitical Career:\\nTrump entered politics in 2015, announcing his candidacy for the Republican presidential nomination. Despite being a political outsider, he quickly gained popularity among conservative voters, capitalizing on anti-establishment sentiment and promising to \"Make America Great Again.\"\\n\\nTrump won the Republican primary in May 2016, defeating 16 other candidates. In the general election, he faced Democratic nominee Hillary Clinton, and despite losing the popular vote, Trump won the Electoral College vote, securing 304 electoral votes to Clinton\\'s 227.\\n\\nAs President, Trump\\'s administration was marked by several controversies, including:\\n\\n1. Immigration policies: Trump\\'s efforts to restrict immigration, including the travel ban targeting predominantly Muslim countries, sparked widespread protests and legal challenges.\\n2. Healthcare reform: Trump\\'s attempts to repeal and replace the Affordable Care Act (ACA), also known as Obamacare, were met with opposition from Democrats and some Republicans.\\n3. Tax reform: Trump signed the Tax Cuts and Jobs Act in 2017, which lowered corporate and individual tax rates, but also increased the national debt.\\n4. Trade policies: Trump imposed tariffs on several countries, including China, Canada, and Mexico, sparking trade wars and retaliatory measures.\\n5. Environmental policies: Trump withdrew the United States from the Paris Climate Agreement and rolled back several environmental regulations, drawing criticism from environmental groups.\\n\\nTrump\\'s presidency was also marked by numerous scandals, including allegations of collusion with Russia during the 2016 election, obstruction of justice, and abuse of power. In December 2019, the House of Representatives impeached Trump on charges of abuse of power and obstruction of Congress, but he was acquitted by the Senate in February 2020.\\n\\nIn the 2020 presidential election, Trump lost to Democratic nominee Joe Biden, receiving 232 electoral votes to Biden\\'s 306. Trump became the first incumbent president to lose re-election since Jimmy Carter in 1980.\\n\\nPost-Presidency:\\nAfter leaving office, Trump returned to his private life, but remains a prominent figure in American politics. He continues to maintain a strong following among his supporters and has hinted at running for president again in 2024.', response_metadata={'token_usage': {'completion_tokens': 667, 'prompt_tokens': 14, 'total_tokens': 681, 'completion_time': 2.029315595, 'prompt_time': 0.004239694, 'queue_time': None, 'total_time': 2.0335552889999997}, 'model_name': 'llama3-70b-8192', 'system_fingerprint': 'fp_87cbfbbc4d', 'finish_reason': 'stop', 'logprobs': None}, id='run-00cf1647-1bda-46c3-a6f3-161f0f1b459b-0', usage_metadata={'input_tokens': 14, 'output_tokens': 667, 'total_tokens': 681})"
            ]
          },
          "metadata": {},
          "execution_count": 27
        }
      ]
    },
    {
      "cell_type": "code",
      "source": [
        "openai_model.invoke(\"Who is Trump?\")"
      ],
      "metadata": {
        "colab": {
          "base_uri": "https://localhost:8080/"
        },
        "id": "4owNGU8hYvrL",
        "outputId": "7f815ff4-b079-400e-d934-6ba3736aad31"
      },
      "execution_count": 28,
      "outputs": [
        {
          "output_type": "execute_result",
          "data": {
            "text/plain": [
              "AIMessage(content='Donald J. Trump is an American businessman, television personality, and politician who served as the 45th President of the United States from January 20, 2017, to January 20, 2021. Born on June 14, 1946, in Queens, New York City, Trump is known for his real estate empire, which includes numerous properties, hotels, and golf courses around the world. He gained widespread fame as the host of the reality TV show \"The Apprentice.\"\\n\\nTrump\\'s political career began in earnest when he announced his candidacy for the presidency in June 2015. Running as a Republican, he won the party\\'s nomination and went on to defeat the Democratic candidate, Hillary Clinton, in the 2016 presidential election. His presidency was marked by significant policy changes, including tax cuts, deregulation, and a focus on immigration control. He also faced considerable controversy and was impeached twice by the House of Representatives, though he was acquitted both times by the Senate.\\n\\nAfter leaving office, Trump has remained a prominent figure in American politics and continues to influence the Republican Party.', response_metadata={'token_usage': {'completion_tokens': 224, 'prompt_tokens': 11, 'total_tokens': 235}, 'model_name': 'gpt-4o-2024-05-13', 'system_fingerprint': 'fp_c4e5b6fa31', 'finish_reason': 'stop', 'logprobs': None}, id='run-6fd1c6fa-6390-4b07-8e87-eb08b2c5c58b-0', usage_metadata={'input_tokens': 11, 'output_tokens': 224, 'total_tokens': 235})"
            ]
          },
          "metadata": {},
          "execution_count": 28
        }
      ]
    },
    {
      "cell_type": "code",
      "source": [
        "def chat_with_model(model_provider, model_name, message):\n",
        "    if model_provider == \"openai\":\n",
        "        model = ChatOpenAI(model=model_name, temperature=0)\n",
        "    elif model_provider == \"groq\":\n",
        "        model = ChatGroq(model=model_name, temperature=0)\n",
        "\n",
        "    print(model.invoke(message))"
      ],
      "metadata": {
        "id": "wREtR9ZLY7vO"
      },
      "execution_count": 29,
      "outputs": []
    },
    {
      "cell_type": "code",
      "source": [
        "message = \"Who is Trump?\""
      ],
      "metadata": {
        "id": "g4ou_IEBZiuS"
      },
      "execution_count": 30,
      "outputs": []
    },
    {
      "cell_type": "code",
      "source": [
        "chat_with_model(\"openai\", \"gpt-4o\", message)"
      ],
      "metadata": {
        "colab": {
          "base_uri": "https://localhost:8080/"
        },
        "id": "7O_pei6cZYEe",
        "outputId": "e6f06bc8-c173-4003-c99e-7a0a581ad9e4"
      },
      "execution_count": 31,
      "outputs": [
        {
          "output_type": "stream",
          "name": "stdout",
          "text": [
            "content='Donald J. Trump is an American businessman, television personality, and politician who served as the 45th President of the United States from January 20, 2017, to January 20, 2021. Before his presidency, he was known for his real estate ventures, including the development of Trump Tower in New York City, and for hosting the reality TV show \"The Apprentice.\" Trump is a member of the Republican Party and has been a highly polarizing figure in American politics, known for his unconventional style, use of social media, and controversial policies and statements. He was impeached twice by the House of Representatives, first in December 2019 and again in January 2021, but was acquitted both times by the Senate.' response_metadata={'token_usage': {'completion_tokens': 151, 'prompt_tokens': 11, 'total_tokens': 162}, 'model_name': 'gpt-4o-2024-05-13', 'system_fingerprint': 'fp_c4e5b6fa31', 'finish_reason': 'stop', 'logprobs': None} id='run-5196a789-7094-4f2d-a04c-65bbf62fe504-0' usage_metadata={'input_tokens': 11, 'output_tokens': 151, 'total_tokens': 162}\n"
          ]
        }
      ]
    },
    {
      "cell_type": "code",
      "source": [
        "chat_with_model(\"groq\", \"llama3-70b-8192\", message)"
      ],
      "metadata": {
        "colab": {
          "base_uri": "https://localhost:8080/"
        },
        "id": "9-jIA1fLZd9t",
        "outputId": "f6130598-fa0b-4b20-f34c-c9be64274cfa"
      },
      "execution_count": 32,
      "outputs": [
        {
          "output_type": "stream",
          "name": "stdout",
          "text": [
            "content='Donald John Trump is an American politician, businessman, and television personality who served as the 45th President of the United States from 2017 to 2021. He is a member of the Republican Party.\\n\\nTrump was born on June 14, 1946, in Queens, New York, to Mary Anne MacLeod and Frederick Christ Trump. He is the fourth of five children. His father was a successful real estate developer, and Trump grew up with a passion for business and real estate.\\n\\nTrump attended the New York Military Academy and then studied at Fordham University for two years before transferring to the University of Pennsylvania, where he graduated with a degree in economics in 1968.\\n\\nAfter college, Trump joined his father\\'s real estate company, the Trump Organization, which he eventually took over in the 1970s. He expanded the company\\'s reach into the casino and hotel industries, and developed several high-profile properties, including the Trump Tower in New York City and the Trump National Doral golf resort in Florida.\\n\\nIn the 1990s and 2000s, Trump became a well-known figure in popular culture, thanks in part to his reality TV show \"The Apprentice,\" which aired from 2004 to 2015. He also made headlines for his high-profile business deals, marriages, and controversies.\\n\\nIn 2015, Trump announced his candidacy for the Republican presidential nomination, running on a platform that emphasized immigration reform, trade protectionism, and a populist, anti-establishment message. Despite being a political outsider, Trump won the Republican primary and went on to defeat Democratic nominee Hillary Clinton in the general election on November 8, 2016.\\n\\nAs President, Trump\\'s administration was marked by controversy and polarization. Some of his notable actions and policies include:\\n\\n* Signing the Tax Cuts and Jobs Act, a major overhaul of the US tax code\\n* Implementing a travel ban targeting several predominantly Muslim countries\\n* Withdrawing the US from the Paris Climate Agreement\\n* Imposing tariffs on imported goods, leading to trade tensions with China and other countries\\n* Appointing two conservative justices to the Supreme Court, Neil Gorsuch and Brett Kavanaugh\\n* Engaging in a trade war with China, which led to tariffs on billions of dollars\\' worth of goods\\n* Signing the First Step Act, a criminal justice reform bill\\n\\nTrump\\'s presidency was also marked by numerous controversies, including investigations into Russian interference in the 2016 election, allegations of obstruction of justice, and impeachment proceedings in the House of Representatives in 2019. He was acquitted by the Senate in 2020.\\n\\nTrump lost the 2020 presidential election to Democratic nominee Joe Biden and left office on January 20, 2021. He remains a prominent figure in American politics and continues to be involved in various business ventures and political activities.' response_metadata={'token_usage': {'completion_tokens': 573, 'prompt_tokens': 14, 'total_tokens': 587, 'completion_time': 1.723887225, 'prompt_time': 0.004623395, 'queue_time': None, 'total_time': 1.72851062}, 'model_name': 'llama3-70b-8192', 'system_fingerprint': 'fp_753a4aecf6', 'finish_reason': 'stop', 'logprobs': None} id='run-98637c5d-589f-4936-83f6-b6ec6b86216a-0' usage_metadata={'input_tokens': 14, 'output_tokens': 573, 'total_tokens': 587}\n"
          ]
        }
      ]
    },
    {
      "cell_type": "markdown",
      "source": [
        "# 2. New Way with LangChain 0.2"
      ],
      "metadata": {
        "id": "wt0GVfPIZtwX"
      }
    },
    {
      "cell_type": "code",
      "source": [
        "from langchain.chat_models import init_chat_model\n",
        "\n",
        "gpt_4o = init_chat_model(\"gpt-4o\", model_provider=\"openai\", temperature=0)\n",
        "groq = init_chat_model(\"llama3-70b-8192\", model_provider=\"groq\", temperature=0)\n",
        "\n",
        "print(\"GPT-4o: \" + gpt_4o.invoke(\"Who is Trump?\").content + \"\\n\")\n",
        "print(\"Groq: \" + groq.invoke(\"Who is Trump?\").content + \"\\n\")"
      ],
      "metadata": {
        "colab": {
          "base_uri": "https://localhost:8080/"
        },
        "id": "9x3yge9_Sxzo",
        "outputId": "f983c2d0-765a-4da2-cfd8-45e1302eedb8"
      },
      "execution_count": 33,
      "outputs": [
        {
          "output_type": "stream",
          "name": "stdout",
          "text": [
            "GPT-4o: Donald J. Trump is an American businessman, television personality, and politician who served as the 45th President of the United States from January 20, 2017, to January 20, 2021. Born on June 14, 1946, in Queens, New York City, Trump is known for his real estate empire, which includes numerous properties, hotels, and golf courses around the world. He gained widespread fame as the host of the reality TV show \"The Apprentice.\"\n",
            "\n",
            "Trump's presidency was marked by significant and often controversial policies and actions, including tax cuts, deregulation, a focus on immigration control, and a contentious approach to international trade and foreign policy. His administration also saw the appointment of three Supreme Court justices. Trump was impeached twice by the House of Representatives, first in December 2019 on charges of abuse of power and obstruction of Congress, and again in January 2021 on charges of incitement of insurrection following the storming of the U.S. Capitol by his supporters. He was acquitted by the Senate both times.\n",
            "\n",
            "After leaving office, Trump has remained a prominent and influential figure within the Republican Party and American politics more broadly.\n",
            "\n",
            "Groq: Donald John Trump is an American politician, businessman, and television personality who served as the 45th President of the United States from 2017 to 2021. He is a member of the Republican Party.\n",
            "\n",
            "Trump was born on June 14, 1946, in Queens, New York, to Mary Anne MacLeod and Frederick Christ Trump. He is the fourth of five children. His father was a successful real estate developer, and Trump followed in his footsteps, taking over the family business in the 1970s.\n",
            "\n",
            "Trump's business career was marked by several high-profile successes and failures. He built a reputation as a shrewd businessman and investor, with a focus on real estate development, casinos, and luxury properties. He also founded the Trump Organization, which became a global brand.\n",
            "\n",
            "In the 2000s, Trump became a household name with the reality TV show \"The Apprentice,\" where he played the role of a demanding boss and mentor. The show was a huge success, running for 14 seasons and making Trump a celebrity.\n",
            "\n",
            "In 2015, Trump announced his candidacy for the Republican presidential nomination, running on a platform of populist and nationalist policies. Despite being a political outsider, he won the nomination and went on to defeat Democratic candidate Hillary Clinton in the general election, becoming the first president without prior military or political experience.\n",
            "\n",
            "As president, Trump's administration was marked by controversy, polarization, and a series of high-profile scandals. Some of his notable policies and actions include:\n",
            "\n",
            "1. Tax cuts and deregulation: Trump signed the Tax Cuts and Jobs Act, which lowered corporate and individual tax rates, and rolled back regulations on industries such as finance and energy.\n",
            "2. Immigration policies: Trump implemented several controversial immigration policies, including the travel ban targeting predominantly Muslim countries, the separation of migrant families at the border, and the construction of a border wall with Mexico.\n",
            "3. Trade policies: Trump imposed tariffs on several countries, including China, Canada, and Mexico, sparking trade wars and retaliatory measures.\n",
            "4. Climate change denial: Trump withdrew the United States from the Paris Climate Agreement and rolled back environmental regulations, sparking criticism from scientists and environmentalists.\n",
            "5. Judicial appointments: Trump appointed two conservative justices to the Supreme Court, Neil Gorsuch and Brett Kavanaugh, shifting the court's ideological balance.\n",
            "\n",
            "Trump's presidency was also marked by numerous scandals, including allegations of collusion with Russia during the 2016 election, obstruction of justice, and abuse of power. He was impeached by the House of Representatives in 2019, but acquitted by the Senate in 2020.\n",
            "\n",
            "Trump lost the 2020 presidential election to Democratic candidate Joe Biden, and his term as president ended on January 20, 2021. Despite leaving office, Trump remains a polarizing figure in American politics, with a loyal base of supporters and fierce critics.\n",
            "\n"
          ]
        }
      ]
    },
    {
      "cell_type": "code",
      "source": [
        "def chat_with_model_2(model_provider, model_name, message):\n",
        "    model = init_chat_model(model_name, model_provider=model_provider, temperature=0)\n",
        "\n",
        "    print(model.invoke(message))"
      ],
      "metadata": {
        "id": "fGHu96dCZ24C"
      },
      "execution_count": 34,
      "outputs": []
    },
    {
      "cell_type": "code",
      "source": [
        "chat_with_model_2(\"openai\", \"gpt-4o\", message)"
      ],
      "metadata": {
        "colab": {
          "base_uri": "https://localhost:8080/"
        },
        "id": "izTYWb2rZ_fH",
        "outputId": "92577979-06b1-42c9-f44b-73d5f18d7cf4"
      },
      "execution_count": 35,
      "outputs": [
        {
          "output_type": "stream",
          "name": "stdout",
          "text": [
            "content='Donald J. Trump is an American businessman, television personality, and politician who served as the 45th President of the United States from January 20, 2017, to January 20, 2021. Before his presidency, he was known for his real estate ventures, including the development of Trump Tower in New York City, and for hosting the reality TV show \"The Apprentice.\" Trump is a member of the Republican Party and has been a highly polarizing figure in American politics, known for his unconventional style, use of social media, and controversial policies and statements. He was impeached twice by the House of Representatives, first in December 2019 and again in January 2021, but was acquitted both times by the Senate.' response_metadata={'token_usage': {'completion_tokens': 151, 'prompt_tokens': 11, 'total_tokens': 162}, 'model_name': 'gpt-4o-2024-05-13', 'system_fingerprint': 'fp_c4e5b6fa31', 'finish_reason': 'stop', 'logprobs': None} id='run-ac732ba3-0942-47e5-8932-680fb1495bac-0' usage_metadata={'input_tokens': 11, 'output_tokens': 151, 'total_tokens': 162}\n"
          ]
        }
      ]
    },
    {
      "cell_type": "code",
      "source": [
        "chat_with_model_2(\"groq\", \"llama3-70b-8192\", message)"
      ],
      "metadata": {
        "colab": {
          "base_uri": "https://localhost:8080/"
        },
        "id": "r8EUtV0IaDZU",
        "outputId": "97286a81-fddc-465b-e395-3751995f676e"
      },
      "execution_count": 36,
      "outputs": [
        {
          "output_type": "stream",
          "name": "stdout",
          "text": [
            "content='Donald John Trump is an American politician, businessman, and television personality who served as the 45th President of the United States from 2017 to 2021. He is a member of the Republican Party.\\n\\nTrump was born on June 14, 1946, in Queens, New York, to Mary Anne MacLeod and Frederick Christ Trump. He is the fourth of five children. His father was a successful real estate developer, and Trump grew up with a passion for business and real estate.\\n\\nTrump attended the New York Military Academy and then studied at Fordham University for two years before transferring to the University of Pennsylvania, where he graduated with a degree in economics in 1968.\\n\\nAfter college, Trump joined his father\\'s real estate company, the Trump Organization, which he eventually took over in the 1970s. He expanded the company\\'s reach into the casino and hotel industries, and developed several high-profile properties, including the Trump Tower in New York City and the Trump National Doral golf resort in Florida.\\n\\nIn the 1990s and 2000s, Trump became a well-known figure in popular culture, thanks in part to his reality TV show \"The Apprentice,\" which aired from 2004 to 2015. He also made headlines for his high-profile business deals, marriages, and controversies.\\n\\nIn 2015, Trump announced his candidacy for the Republican presidential nomination, running on a platform that emphasized immigration reform, trade protectionism, and a populist, anti-establishment message. Despite being a political outsider, Trump won the Republican primary and went on to defeat Democratic nominee Hillary Clinton in the general election on November 8, 2016.\\n\\nAs President, Trump\\'s administration was marked by controversy and polarization. Some of his notable actions and policies include:\\n\\n* Signing the Tax Cuts and Jobs Act, a major overhaul of the US tax code\\n* Implementing a travel ban targeting several predominantly Muslim countries\\n* Withdrawing the US from the Paris Climate Agreement\\n* Imposing tariffs on imported goods, leading to trade tensions with China and other countries\\n* Appointing two conservative justices to the Supreme Court, Neil Gorsuch and Brett Kavanaugh\\n* Engaging in a trade war with China, which led to tariffs on billions of dollars\\' worth of goods\\n* Signing the First Step Act, a criminal justice reform bill\\n\\nTrump\\'s presidency was also marked by numerous controversies, including investigations into Russian interference in the 2016 election, allegations of obstruction of justice, and impeachment proceedings in the House of Representatives in 2019. He was acquitted by the Senate in 2020.\\n\\nTrump lost the 2020 presidential election to Democratic nominee Joe Biden and left office on January 20, 2021. He remains a prominent figure in American politics and continues to be involved in various business ventures and political activities.' response_metadata={'token_usage': {'completion_tokens': 573, 'prompt_tokens': 14, 'total_tokens': 587, 'completion_time': 1.77764765, 'prompt_time': 0.004019064, 'queue_time': None, 'total_time': 1.781666714}, 'model_name': 'llama3-70b-8192', 'system_fingerprint': 'fp_2f30b0b571', 'finish_reason': 'stop', 'logprobs': None} id='run-b8940638-bfea-4b2d-a585-a3874cf486ec-0' usage_metadata={'input_tokens': 14, 'output_tokens': 573, 'total_tokens': 587}\n"
          ]
        }
      ]
    },
    {
      "cell_type": "markdown",
      "source": [
        "## 2.1 Configurable Models"
      ],
      "metadata": {
        "id": "lUWYz4n2aJqa"
      }
    },
    {
      "cell_type": "code",
      "source": [
        "chat_model = init_chat_model(temperature=0)"
      ],
      "metadata": {
        "id": "9LeTMf89VRor"
      },
      "execution_count": 38,
      "outputs": []
    },
    {
      "cell_type": "code",
      "source": [
        "chat_model.invoke(\n",
        "    \"What's your name?\", config={\"configurable\": {\"model\": \"gpt-3.5-turbo\"}}\n",
        ")"
      ],
      "metadata": {
        "colab": {
          "base_uri": "https://localhost:8080/"
        },
        "id": "YAHId4qxUyts",
        "outputId": "ae00873b-e8a7-49b2-a465-779f3b92bf7d"
      },
      "execution_count": 39,
      "outputs": [
        {
          "output_type": "execute_result",
          "data": {
            "text/plain": [
              "AIMessage(content='I am a language model AI created by OpenAI, so I do not have a personal name. You can just call me Assistant. How can I assist you today?', response_metadata={'token_usage': {'completion_tokens': 34, 'prompt_tokens': 12, 'total_tokens': 46}, 'model_name': 'gpt-3.5-turbo-0125', 'system_fingerprint': None, 'finish_reason': 'stop', 'logprobs': None}, id='run-8f154410-b589-4645-99c6-153bbb57b847-0', usage_metadata={'input_tokens': 12, 'output_tokens': 34, 'total_tokens': 46})"
            ]
          },
          "metadata": {},
          "execution_count": 39
        }
      ]
    },
    {
      "cell_type": "code",
      "source": [
        "chat_model.invoke(\n",
        "    \"What's your name?\", config={\"configurable\": {\"model\": \"gpt-4o\"}}\n",
        ")"
      ],
      "metadata": {
        "colab": {
          "base_uri": "https://localhost:8080/"
        },
        "id": "WAS4bqD3VeM_",
        "outputId": "3d2777c7-820e-45a1-e8aa-f9cc608a3c41"
      },
      "execution_count": 40,
      "outputs": [
        {
          "output_type": "execute_result",
          "data": {
            "text/plain": [
              "AIMessage(content=\"I don't have a personal name, but you can call me Assistant. How can I help you today?\", response_metadata={'token_usage': {'completion_tokens': 21, 'prompt_tokens': 11, 'total_tokens': 32}, 'model_name': 'gpt-4o-2024-05-13', 'system_fingerprint': 'fp_5e997b69d8', 'finish_reason': 'stop', 'logprobs': None}, id='run-b8eee138-3077-496a-a2e8-949a3b574a27-0', usage_metadata={'input_tokens': 11, 'output_tokens': 21, 'total_tokens': 32})"
            ]
          },
          "metadata": {},
          "execution_count": 40
        }
      ]
    }
  ]
}